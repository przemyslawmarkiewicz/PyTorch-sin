{
 "cells": [
  {
   "cell_type": "code",
   "execution_count": 1,
   "metadata": {},
   "outputs": [],
   "source": [
    "import torch\n",
    "import torch.nn as nn\n",
    "import torch.utils.data\n",
    "\n",
    "import numpy as np\n",
    "import pandas as pd\n",
    "import matplotlib.pyplot as plt"
   ]
  },
  {
   "cell_type": "markdown",
   "metadata": {},
   "source": [
    "### Generating and visualising training data"
   ]
  },
  {
   "cell_type": "code",
   "execution_count": 2,
   "metadata": {},
   "outputs": [],
   "source": [
    "def get_samples(num_of_points, random=True):\n",
    "    train_data = torch.zeros((num_of_points, 2))\n",
    "    if random:\n",
    "        freq = np.random.uniform(1.2, 1.5)\n",
    "    else:\n",
    "        freq = 1\n",
    "    signal_x = np.linspace(0,10, num_of_points)\n",
    "    signal_y = np.array([np.sin(i*freq) for i in signal_x])\n",
    "    train_data[:, 0] = torch.from_numpy(signal_x)\n",
    "    train_data[:, 1] = torch.from_numpy(signal_y)\n",
    "    \n",
    "    return train_data"
   ]
  },
  {
   "cell_type": "code",
   "execution_count": 3,
   "metadata": {
    "scrolled": true
   },
   "outputs": [
    {
     "data": {
      "text/plain": [
       "[<matplotlib.lines.Line2D at 0x7f937160e850>]"
      ]
     },
     "execution_count": 3,
     "metadata": {},
     "output_type": "execute_result"
    },
    {
     "data": {
      "image/png": "[encoded data removed]",
      "text/plain": [
       "<Figure size 432x288 with 1 Axes>"
      ]
     },
     "metadata": {
      "needs_background": "light"
     },
     "output_type": "display_data"
    }
   ],
   "source": [
    "num_of_points = 100\n",
    "\n",
    "train_data = get_samples(num_of_points, False)\n",
    "\n",
    "plt.plot(train_data[:, 0], train_data[:, 1])"
   ]
  },
  {
   "cell_type": "code",
   "execution_count": 4,
   "metadata": {},
   "outputs": [],
   "source": [
    "train_labels = torch.ones(num_of_points)\n",
    "train_dataset = [(train_data[i], train_labels[i]) for i in range(num_of_points)]"
   ]
  },
  {
   "cell_type": "code",
   "execution_count": 5,
   "metadata": {},
   "outputs": [],
   "source": [
    "batch_size = 10\n",
    "\n",
    "train_loader = torch.utils.data.DataLoader(train_dataset, batch_size=batch_size, shuffle=True)"
   ]
  },
  {
   "cell_type": "code",
   "execution_count": 6,
   "metadata": {
    "scrolled": true
   },
   "outputs": [
    {
     "name": "stdout",
     "output_type": "stream",
     "text": [
      "<torch.utils.data.dataloader.DataLoader object at 0x7f936f571490>\n"
     ]
    }
   ],
   "source": [
    "print(train_loader)"
   ]
  },
  {
   "cell_type": "markdown",
   "metadata": {},
   "source": [
    "### Defining models"
   ]
  },
  {
   "cell_type": "code",
   "execution_count": 7,
   "metadata": {},
   "outputs": [],
   "source": [
    "class Discriminator(nn.Module):\n",
    "    def __init__(self, input_size, output_size, hidden_dim, p=0.3):\n",
    "        super().__init__()\n",
    "        \n",
    "       \n",
    "        #layers\n",
    "        self.hidden0 = nn.Sequential(\n",
    "            nn.Linear(input_size, hidden_dim*4),\n",
    "            nn.LeakyReLU(0.2),\n",
    "            nn.Dropout(p)\n",
    "        )\n",
    "        self.hidden1 = nn.Sequential(\n",
    "            nn.Linear(hidden_dim*4, hidden_dim*2),\n",
    "            nn.LeakyReLU(0.2),\n",
    "            nn.Dropout(p)\n",
    "        )\n",
    "        \n",
    "        self.hidden2 = nn.Sequential(\n",
    "            nn.Linear(hidden_dim*2, hidden_dim),\n",
    "            nn.LeakyReLU(0.2),\n",
    "            nn.Dropout(p)\n",
    "        )\n",
    "        \n",
    "        self.out = nn.Sequential(\n",
    "            nn.Linear(hidden_dim, output_size),\n",
    "            nn.Sigmoid()\n",
    "        )\n",
    "       \n",
    "    \n",
    "        \n",
    "    def forward(self, x):\n",
    "        x = self.hidden0(x)\n",
    "        x = self.hidden1(x)\n",
    "        x = self.hidden2(x)\n",
    "        out = self.out(x)\n",
    "        return out"
   ]
  },
  {
   "cell_type": "code",
   "execution_count": 8,
   "metadata": {},
   "outputs": [],
   "source": [
    "class Generator(nn.Module):\n",
    "    def __init__(self, input_size, output_size, hidden_dim, p=0.3):\n",
    "        super().__init__()\n",
    "          \n",
    "    #layers\n",
    "        self.hidden0 = nn.Sequential(\n",
    "            nn.Linear(input_size, hidden_dim//4),\n",
    "            nn.ReLU(),\n",
    "        )\n",
    "        self.hidden1 = nn.Sequential(\n",
    "            nn.Linear(hidden_dim//4, hidden_dim//2),\n",
    "            nn.ReLU(),\n",
    "        )\n",
    "        self.out = nn.Sequential(\n",
    "            nn.Linear(hidden_dim//2, output_size),\n",
    "        )\n",
    "       \n",
    "    \n",
    "        \n",
    "    def forward(self, x):\n",
    "        x = self.hidden0(x)\n",
    "        x = self.hidden1(x)\n",
    "        out = self.out(x)\n",
    "        return out"
   ]
  },
  {
   "cell_type": "code",
   "execution_count": 9,
   "metadata": {},
   "outputs": [],
   "source": [
    "input_size = 2\n",
    "\n",
    "d_output_size = 1\n",
    "g_output_size = 2\n",
    "\n",
    "hidden_dim = 64"
   ]
  },
  {
   "cell_type": "code",
   "execution_count": 10,
   "metadata": {},
   "outputs": [],
   "source": [
    "D = Discriminator(input_size, d_output_size, hidden_dim)\n",
    "G = Generator(input_size, g_output_size, hidden_dim)"
   ]
  },
  {
   "cell_type": "code",
   "execution_count": 11,
   "metadata": {},
   "outputs": [
    {
     "name": "stdout",
     "output_type": "stream",
     "text": [
      "Discriminator(\n",
      "  (hidden0): Sequential(\n",
      "    (0): Linear(in_features=2, out_features=256, bias=True)\n",
      "    (1): LeakyReLU(negative_slope=0.2)\n",
      "    (2): Dropout(p=0.3, inplace=False)\n",
      "  )\n",
      "  (hidden1): Sequential(\n",
      "    (0): Linear(in_features=256, out_features=128, bias=True)\n",
      "    (1): LeakyReLU(negative_slope=0.2)\n",
      "    (2): Dropout(p=0.3, inplace=False)\n",
      "  )\n",
      "  (hidden2): Sequential(\n",
      "    (0): Linear(in_features=128, out_features=64, bias=True)\n",
      "    (1): LeakyReLU(negative_slope=0.2)\n",
      "    (2): Dropout(p=0.3, inplace=False)\n",
      "  )\n",
      "  (out): Sequential(\n",
      "    (0): Linear(in_features=64, out_features=1, bias=True)\n",
      "    (1): Sigmoid()\n",
      "  )\n",
      ")\n"
     ]
    }
   ],
   "source": [
    "print(D)"
   ]
  },
  {
   "cell_type": "code",
   "execution_count": 12,
   "metadata": {
    "scrolled": true
   },
   "outputs": [
    {
     "name": "stdout",
     "output_type": "stream",
     "text": [
      "Generator(\n",
      "  (hidden0): Sequential(\n",
      "    (0): Linear(in_features=2, out_features=16, bias=True)\n",
      "    (1): ReLU()\n",
      "  )\n",
      "  (hidden1): Sequential(\n",
      "    (0): Linear(in_features=16, out_features=32, bias=True)\n",
      "    (1): ReLU()\n",
      "  )\n",
      "  (out): Sequential(\n",
      "    (0): Linear(in_features=32, out_features=2, bias=True)\n",
      "  )\n",
      ")\n"
     ]
    }
   ],
   "source": [
    "print(G)"
   ]
  },
  {
   "cell_type": "markdown",
   "metadata": {},
   "source": [
    "### Training"
   ]
  },
  {
   "cell_type": "code",
   "execution_count": 13,
   "metadata": {},
   "outputs": [],
   "source": [
    "def loss_function(D_out, label):\n",
    "    if label == 1:\n",
    "        labels = torch.ones(batch_size, 1)\n",
    "    else:\n",
    "        labels = torch.zeros(batch_size, 1)\n",
    "        \n",
    "    criterion = nn.BCELoss()\n",
    "    \n",
    "    loss = criterion(D_out, labels)\n",
    "    \n",
    "    return loss\n"
   ]
  },
  {
   "cell_type": "code",
   "execution_count": 14,
   "metadata": {},
   "outputs": [],
   "source": [
    "import torch.optim as optim\n",
    "\n",
    "lr = 0.001\n",
    "\n",
    "#Createing optimizers for the discriminator and generator\n",
    "d_optimizer = optim.Adam(D.parameters(), lr)\n",
    "g_optimizer = optim.Adam(G.parameters(), lr)"
   ]
  },
  {
   "cell_type": "code",
   "execution_count": 15,
   "metadata": {
    "scrolled": true
   },
   "outputs": [
    {
     "name": "stdout",
     "output_type": "stream",
     "text": [
      "Epoch 0, d_loss: 0.8400230407714844, g_loss: 0.8105347752571106\n",
      "Epoch 50, d_loss: 1.180121898651123, g_loss: 0.835675835609436\n",
      "Epoch 100, d_loss: 1.419529914855957, g_loss: 0.7946504354476929\n",
      "Epoch 150, d_loss: 1.261350393295288, g_loss: 0.8727604150772095\n",
      "Epoch 200, d_loss: 1.3151016235351562, g_loss: 0.6821205615997314\n",
      "Epoch 250, d_loss: 1.3606557846069336, g_loss: 0.6212108731269836\n",
      "Epoch 300, d_loss: 1.2239048480987549, g_loss: 0.8158696889877319\n",
      "Epoch 350, d_loss: 1.4602687358856201, g_loss: 0.9234715700149536\n",
      "Epoch 400, d_loss: 1.3863022327423096, g_loss: 0.7573363780975342\n",
      "Epoch 450, d_loss: 1.3162001371383667, g_loss: 0.747054934501648\n",
      "Epoch 500, d_loss: 1.56196129322052, g_loss: 0.8044004440307617\n",
      "Epoch 550, d_loss: 1.3730380535125732, g_loss: 0.7715426087379456\n",
      "Epoch 600, d_loss: 1.3934974670410156, g_loss: 0.6945136785507202\n",
      "Epoch 650, d_loss: 1.231344223022461, g_loss: 0.7297900915145874\n",
      "Epoch 700, d_loss: 1.318149447441101, g_loss: 0.7236674427986145\n",
      "Epoch 750, d_loss: 1.3640655279159546, g_loss: 0.7294971346855164\n",
      "Epoch 800, d_loss: 1.4909930229187012, g_loss: 0.8623006939888\n",
      "Epoch 850, d_loss: 1.2943999767303467, g_loss: 0.708321213722229\n",
      "Epoch 900, d_loss: 1.3623151779174805, g_loss: 0.735527753829956\n",
      "Epoch 950, d_loss: 1.278314471244812, g_loss: 0.7019597291946411\n",
      "Epoch 1000, d_loss: 1.3128416538238525, g_loss: 0.6038393974304199\n",
      "Epoch 1050, d_loss: 1.25752592086792, g_loss: 0.6655047535896301\n",
      "Epoch 1100, d_loss: 1.4907898902893066, g_loss: 0.7447312474250793\n",
      "Epoch 1150, d_loss: 1.4016481637954712, g_loss: 0.6756538152694702\n",
      "Epoch 1200, d_loss: 1.2989312410354614, g_loss: 0.9581863284111023\n",
      "Epoch 1250, d_loss: 1.4114701747894287, g_loss: 0.6929526329040527\n",
      "Epoch 1300, d_loss: 1.4198651313781738, g_loss: 0.6822606921195984\n",
      "Epoch 1350, d_loss: 1.3230915069580078, g_loss: 0.7426284551620483\n",
      "Epoch 1400, d_loss: 1.4506789445877075, g_loss: 0.730095624923706\n",
      "Epoch 1450, d_loss: 1.3754876852035522, g_loss: 0.6094800233840942\n",
      "Epoch 1500, d_loss: 1.4271539449691772, g_loss: 0.6924028992652893\n",
      "Epoch 1550, d_loss: 1.4138472080230713, g_loss: 0.7530150413513184\n",
      "Epoch 1600, d_loss: 1.3643814325332642, g_loss: 0.6885821223258972\n",
      "Epoch 1650, d_loss: 1.3663365840911865, g_loss: 0.6716367602348328\n",
      "Epoch 1700, d_loss: 1.2990785837173462, g_loss: 0.8120931386947632\n",
      "Epoch 1750, d_loss: 1.3082489967346191, g_loss: 0.8169148564338684\n",
      "Epoch 1800, d_loss: 1.3333585262298584, g_loss: 0.6434242129325867\n",
      "Epoch 1850, d_loss: 1.386805772781372, g_loss: 0.7257216572761536\n",
      "Epoch 1900, d_loss: 1.3921806812286377, g_loss: 0.6793038845062256\n",
      "Epoch 1950, d_loss: 1.370065689086914, g_loss: 0.6600211262702942\n",
      "Epoch 2000, d_loss: 1.5060473680496216, g_loss: 0.6811900734901428\n",
      "Epoch 2050, d_loss: 1.4053268432617188, g_loss: 0.6893784999847412\n",
      "Epoch 2100, d_loss: 1.4027533531188965, g_loss: 0.73975670337677\n",
      "Epoch 2150, d_loss: 1.3822683095932007, g_loss: 0.7197192311286926\n",
      "Epoch 2200, d_loss: 1.3118023872375488, g_loss: 0.7984040975570679\n",
      "Epoch 2250, d_loss: 1.3892600536346436, g_loss: 0.7009361386299133\n",
      "Epoch 2300, d_loss: 1.4061009883880615, g_loss: 0.6745150089263916\n",
      "Epoch 2350, d_loss: 1.3752226829528809, g_loss: 0.7025651335716248\n",
      "Epoch 2400, d_loss: 1.3784773349761963, g_loss: 0.6998176574707031\n",
      "Epoch 2450, d_loss: 1.3997218608856201, g_loss: 0.652145266532898\n",
      "Epoch 2500, d_loss: 1.4102914333343506, g_loss: 0.713066041469574\n",
      "Epoch 2550, d_loss: 1.4097275733947754, g_loss: 0.7101563811302185\n",
      "Epoch 2600, d_loss: 1.4349865913391113, g_loss: 0.8015449643135071\n",
      "Epoch 2650, d_loss: 1.377812385559082, g_loss: 0.6971792578697205\n",
      "Epoch 2700, d_loss: 1.416672945022583, g_loss: 0.6742936372756958\n",
      "Epoch 2750, d_loss: 1.357773780822754, g_loss: 0.7279748320579529\n",
      "Epoch 2800, d_loss: 1.46923828125, g_loss: 0.659278929233551\n",
      "Epoch 2850, d_loss: 1.4127206802368164, g_loss: 0.7357242107391357\n",
      "Epoch 2900, d_loss: 1.3913942575454712, g_loss: 0.6895812749862671\n",
      "Epoch 2950, d_loss: 1.3566908836364746, g_loss: 0.7409948706626892\n"
     ]
    }
   ],
   "source": [
    "num_epochs = 3000\n",
    "\n",
    "\n",
    "losses = []\n",
    "\n",
    "\n",
    "for epoch in range(num_epochs):\n",
    "    for batch_i , (real_samples, _) in enumerate(train_loader):\n",
    "    \n",
    "        # Training the discriminator \n",
    "        # 1) with real samples\n",
    "        \n",
    "        d_optimizer.zero_grad()\n",
    "\n",
    "        D_real_output = D(real_samples)\n",
    "\n",
    "        d_real_loss = loss_function(D_real_output, 1)\n",
    "        \n",
    "        # 2) with fake samples\n",
    "\n",
    "        latent_space_samples = torch.randn((batch_size, 2))\n",
    "        \n",
    "        fake_generated_samples = G(latent_space_samples)\n",
    "        \n",
    "        D_fake_output = D(fake_generated_samples)\n",
    "        \n",
    "        d_fake_loss = loss_function(D_fake_output, 0)\n",
    "        \n",
    "        #adding fake loss and real loss \n",
    "        d_loss = d_real_loss + d_fake_loss\n",
    "        d_loss.backward()\n",
    "        d_optimizer.step()\n",
    "        \n",
    "        #Training the generator\n",
    "        \n",
    "        g_optimizer.zero_grad()\n",
    "        \n",
    "        latent_space_samples = torch.randn((batch_size, 2))\n",
    "        \n",
    "        fake_generated_samples = G(latent_space_samples)\n",
    "        \n",
    "        #computing discriminator losses on fake samples\n",
    "\n",
    "        D_fake_output = D(fake_generated_samples)\n",
    "\n",
    "        g_loss = loss_function(D_fake_output, 1)\n",
    "\n",
    "        g_loss.backward()\n",
    "\n",
    "        g_optimizer.step()\n",
    "        \n",
    "        if epoch % 50 == 0 and batch_i == 4:\n",
    "            print(f\"Epoch {epoch}, d_loss: {d_loss.item()}, g_loss: {g_loss.item()}\")\n",
    "            \n",
    "    losses.append((d_loss.item(), g_loss.item()))\n",
    "    \n",
    "        "
   ]
  },
  {
   "cell_type": "code",
   "execution_count": 16,
   "metadata": {
    "scrolled": true
   },
   "outputs": [
    {
     "data": {
      "text/plain": [
       "<matplotlib.legend.Legend at 0x7f936811e150>"
      ]
     },
     "execution_count": 16,
     "metadata": {},
     "output_type": "execute_result"
    },
    {
     "data": {
      "image/png": "[encoded data removed]",
      "text/plain": [
       "<Figure size 432x288 with 1 Axes>"
      ]
     },
     "metadata": {
      "needs_background": "light"
     },
     "output_type": "display_data"
    }
   ],
   "source": [
    "fig, ax = plt.subplots()\n",
    "losses = np.array(losses)\n",
    "plt.plot(losses.T[0], label='Discriminator')\n",
    "plt.plot(losses.T[1], label='Generator')\n",
    "plt.title(\"Training Losses\")\n",
    "plt.legend()\n",
    "\n"
   ]
  },
  {
   "cell_type": "markdown",
   "metadata": {},
   "source": [
    "### Generating sinusoid"
   ]
  },
  {
   "cell_type": "code",
   "execution_count": 20,
   "metadata": {},
   "outputs": [
    {
     "data": {
      "image/png": "[encoded data removed]",
      "text/plain": [
       "<Figure size 432x288 with 1 Axes>"
      ]
     },
     "metadata": {
      "needs_background": "light"
     },
     "output_type": "display_data"
    }
   ],
   "source": [
    "for i in range(10):\n",
    "    sample_test_noise = torch.randn(num_of_points, 2)\n",
    "    generated = G(sample_test_noise)\n",
    "    generated = generated.detach()\n",
    "    plt.plot(generated[:, 0], generated[:, 1], '.')"
   ]
  }
 ],
 "metadata": {
  "kernelspec": {
   "display_name": "Python 3",
   "language": "python",
   "name": "python3"
  },
  "language_info": {
   "codemirror_mode": {
    "name": "ipython",
    "version": 3
   },
   "file_extension": ".py",
   "mimetype": "text/x-python",
   "name": "python",
   "nbconvert_exporter": "python",
   "pygments_lexer": "ipython3",
   "version": "3.7.9"
  }
 },
 "nbformat": 4,
 "nbformat_minor": 4
}
