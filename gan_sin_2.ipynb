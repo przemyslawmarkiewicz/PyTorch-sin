{
 "cells": [
  {
   "cell_type": "code",
   "execution_count": 1,
   "metadata": {},
   "outputs": [],
   "source": [
    "import torch\n",
    "import torch.nn as nn\n",
    "import torch.utils.data\n",
    "\n",
    "import numpy as np\n",
    "import pandas as pd\n",
    "import matplotlib.pyplot as plt"
   ]
  },
  {
   "cell_type": "markdown",
   "metadata": {},
   "source": [
    "### Generating and visualising training data"
   ]
  },
  {
   "cell_type": "code",
   "execution_count": 2,
   "metadata": {},
   "outputs": [],
   "source": [
    "def get_samples(num_of_points, random=True):\n",
    "    train_data = torch.zeros((num_of_points, 2))\n",
    "    if random:\n",
    "        freq = np.random.uniform(1.2, 1.5)\n",
    "    else:\n",
    "        freq = 1\n",
    "    signal_x = np.linspace(0,10, num_of_points)\n",
    "    signal_y = np.array([np.sin(i*freq) for i in signal_x])\n",
    "    train_data[:, 0] = torch.from_numpy(signal_x)\n",
    "    train_data[:, 1] = torch.from_numpy(signal_y)\n",
    "    \n",
    "    return train_data"
   ]
  },
  {
   "cell_type": "code",
   "execution_count": 3,
   "metadata": {
    "scrolled": true
   },
   "outputs": [
    {
     "data": {
      "text/plain": [
       "[<matplotlib.lines.Line2D at 0x7fcc4771b610>]"
      ]
     },
     "execution_count": 3,
     "metadata": {},
     "output_type": "execute_result"
    },
    {
     "data": {
      "image/png": "[encoded data removed]",
      "text/plain": [
       "<Figure size 432x288 with 1 Axes>"
      ]
     },
     "metadata": {
      "needs_background": "light"
     },
     "output_type": "display_data"
    }
   ],
   "source": [
    "num_of_points = 100\n",
    "\n",
    "train_data = get_samples(num_of_points, False)\n",
    "\n",
    "plt.plot(train_data[:, 0], train_data[:, 1])"
   ]
  },
  {
   "cell_type": "code",
   "execution_count": 4,
   "metadata": {},
   "outputs": [],
   "source": [
    "train_labels = torch.ones(num_of_points)\n",
    "train_dataset = [(train_data[i], train_labels[i]) for i in range(num_of_points)]"
   ]
  },
  {
   "cell_type": "code",
   "execution_count": 5,
   "metadata": {},
   "outputs": [],
   "source": [
    "batch_size = 10\n",
    "\n",
    "train_loader = torch.utils.data.DataLoader(train_dataset, batch_size=batch_size, shuffle=True)"
   ]
  },
  {
   "cell_type": "code",
   "execution_count": 6,
   "metadata": {
    "scrolled": true
   },
   "outputs": [
    {
     "name": "stdout",
     "output_type": "stream",
     "text": [
      "<torch.utils.data.dataloader.DataLoader object at 0x7fcc45679150>\n"
     ]
    }
   ],
   "source": [
    "print(train_loader)"
   ]
  },
  {
   "cell_type": "markdown",
   "metadata": {},
   "source": [
    "### Defining models"
   ]
  },
  {
   "cell_type": "code",
   "execution_count": 7,
   "metadata": {},
   "outputs": [],
   "source": [
    "class Discriminator(nn.Module):\n",
    "    def __init__(self, input_size, output_size, hidden_dim, p=0.3):\n",
    "        super().__init__()\n",
    "        \n",
    "       \n",
    "        #layers\n",
    "        self.hidden0 = nn.Sequential(\n",
    "            nn.Linear(input_size, hidden_dim*4),\n",
    "            nn.LeakyReLU(0.2),\n",
    "            nn.Dropout(p)\n",
    "        )\n",
    "        self.hidden1 = nn.Sequential(\n",
    "            nn.Linear(hidden_dim*4, hidden_dim*2),\n",
    "            nn.LeakyReLU(0.2),\n",
    "            nn.Dropout(p)\n",
    "        )\n",
    "        \n",
    "        self.hidden2 = nn.Sequential(\n",
    "            nn.Linear(hidden_dim*2, hidden_dim),\n",
    "            nn.LeakyReLU(0.2),\n",
    "            nn.Dropout(p)\n",
    "        )\n",
    "        \n",
    "        self.out = nn.Sequential(\n",
    "            nn.Linear(hidden_dim, output_size),\n",
    "            nn.Sigmoid()\n",
    "        )\n",
    "       \n",
    "    \n",
    "        \n",
    "    def forward(self, x):\n",
    "        x = self.hidden0(x)\n",
    "        x = self.hidden1(x)\n",
    "        x = self.hidden2(x)\n",
    "        out = self.out(x)\n",
    "        return out"
   ]
  },
  {
   "cell_type": "code",
   "execution_count": 8,
   "metadata": {},
   "outputs": [],
   "source": [
    "class Generator(nn.Module):\n",
    "    def __init__(self, input_size, output_size, hidden_dim, p=0.3):\n",
    "        super().__init__()\n",
    "          \n",
    "    #layers\n",
    "        self.hidden0 = nn.Sequential(\n",
    "            nn.Linear(input_size, hidden_dim//4),\n",
    "            nn.ReLU(),\n",
    "        )\n",
    "        self.hidden1 = nn.Sequential(\n",
    "            nn.Linear(hidden_dim//4, hidden_dim//2),\n",
    "            nn.ReLU(),\n",
    "        )\n",
    "        self.out = nn.Sequential(\n",
    "            nn.Linear(hidden_dim//2, output_size),\n",
    "        )\n",
    "       \n",
    "    \n",
    "        \n",
    "    def forward(self, x):\n",
    "        x = self.hidden0(x)\n",
    "        x = self.hidden1(x)\n",
    "        out = self.out(x)\n",
    "        return out"
   ]
  },
  {
   "cell_type": "code",
   "execution_count": 9,
   "metadata": {},
   "outputs": [],
   "source": [
    "g_input_size = 100\n",
    "d_input_size = 2\n",
    "\n",
    "d_output_size = 1\n",
    "g_output_size = 2\n",
    "\n",
    "hidden_dim = 64"
   ]
  },
  {
   "cell_type": "code",
   "execution_count": 10,
   "metadata": {},
   "outputs": [],
   "source": [
    "D = Discriminator(d_input_size, d_output_size, hidden_dim)\n",
    "G = Generator(g_input_size, g_output_size, hidden_dim)"
   ]
  },
  {
   "cell_type": "code",
   "execution_count": 11,
   "metadata": {},
   "outputs": [
    {
     "name": "stdout",
     "output_type": "stream",
     "text": [
      "Discriminator(\n",
      "  (hidden0): Sequential(\n",
      "    (0): Linear(in_features=2, out_features=256, bias=True)\n",
      "    (1): LeakyReLU(negative_slope=0.2)\n",
      "    (2): Dropout(p=0.3, inplace=False)\n",
      "  )\n",
      "  (hidden1): Sequential(\n",
      "    (0): Linear(in_features=256, out_features=128, bias=True)\n",
      "    (1): LeakyReLU(negative_slope=0.2)\n",
      "    (2): Dropout(p=0.3, inplace=False)\n",
      "  )\n",
      "  (hidden2): Sequential(\n",
      "    (0): Linear(in_features=128, out_features=64, bias=True)\n",
      "    (1): LeakyReLU(negative_slope=0.2)\n",
      "    (2): Dropout(p=0.3, inplace=False)\n",
      "  )\n",
      "  (out): Sequential(\n",
      "    (0): Linear(in_features=64, out_features=1, bias=True)\n",
      "    (1): Sigmoid()\n",
      "  )\n",
      ")\n"
     ]
    }
   ],
   "source": [
    "print(D)"
   ]
  },
  {
   "cell_type": "code",
   "execution_count": 12,
   "metadata": {
    "scrolled": true
   },
   "outputs": [
    {
     "name": "stdout",
     "output_type": "stream",
     "text": [
      "Generator(\n",
      "  (hidden0): Sequential(\n",
      "    (0): Linear(in_features=100, out_features=16, bias=True)\n",
      "    (1): ReLU()\n",
      "  )\n",
      "  (hidden1): Sequential(\n",
      "    (0): Linear(in_features=16, out_features=32, bias=True)\n",
      "    (1): ReLU()\n",
      "  )\n",
      "  (out): Sequential(\n",
      "    (0): Linear(in_features=32, out_features=2, bias=True)\n",
      "  )\n",
      ")\n"
     ]
    }
   ],
   "source": [
    "print(G)"
   ]
  },
  {
   "cell_type": "markdown",
   "metadata": {},
   "source": [
    "### Training"
   ]
  },
  {
   "cell_type": "code",
   "execution_count": 13,
   "metadata": {},
   "outputs": [],
   "source": [
    "def loss_function(D_out, label):\n",
    "    if label == 1:\n",
    "        labels = torch.ones(batch_size, 1)\n",
    "    else:\n",
    "        labels = torch.zeros(batch_size, 1)\n",
    "        \n",
    "    criterion = nn.BCELoss()\n",
    "    \n",
    "    loss = criterion(D_out, labels)\n",
    "    \n",
    "    return loss\n"
   ]
  },
  {
   "cell_type": "code",
   "execution_count": 14,
   "metadata": {},
   "outputs": [],
   "source": [
    "import torch.optim as optim\n",
    "\n",
    "lr = 0.001\n",
    "\n",
    "#Createing optimizers for the discriminator and generator\n",
    "d_optimizer = optim.Adam(D.parameters(), lr)\n",
    "g_optimizer = optim.Adam(G.parameters(), lr)"
   ]
  },
  {
   "cell_type": "code",
   "execution_count": 15,
   "metadata": {
    "scrolled": true
   },
   "outputs": [
    {
     "name": "stdout",
     "output_type": "stream",
     "text": [
      "Epoch 0, d_loss: 0.9080907702445984, g_loss: 0.6749571561813354\n",
      "Epoch 50, d_loss: 1.2997748851776123, g_loss: 0.6252617239952087\n",
      "Epoch 100, d_loss: 1.2448880672454834, g_loss: 0.8471888303756714\n",
      "Epoch 150, d_loss: 1.42690908908844, g_loss: 0.6305869817733765\n",
      "Epoch 200, d_loss: 1.378801941871643, g_loss: 0.7921382188796997\n",
      "Epoch 250, d_loss: 1.1855053901672363, g_loss: 0.7109615206718445\n",
      "Epoch 300, d_loss: 1.2494802474975586, g_loss: 0.7696560621261597\n",
      "Epoch 350, d_loss: 1.22086501121521, g_loss: 1.020505666732788\n",
      "Epoch 400, d_loss: 1.4161018133163452, g_loss: 0.9296489953994751\n",
      "Epoch 450, d_loss: 1.1881263256072998, g_loss: 1.1169626712799072\n",
      "Epoch 500, d_loss: 1.2157775163650513, g_loss: 0.9186210632324219\n",
      "Epoch 550, d_loss: 1.336721420288086, g_loss: 1.0022773742675781\n",
      "Epoch 600, d_loss: 1.154128074645996, g_loss: 0.9484230279922485\n",
      "Epoch 650, d_loss: 1.2561395168304443, g_loss: 0.9240617752075195\n",
      "Epoch 700, d_loss: 1.3509290218353271, g_loss: 0.6787435412406921\n",
      "Epoch 750, d_loss: 1.5226640701293945, g_loss: 0.8660751581192017\n",
      "Epoch 800, d_loss: 1.2785344123840332, g_loss: 0.5971978902816772\n",
      "Epoch 850, d_loss: 1.334887981414795, g_loss: 0.9967033267021179\n",
      "Epoch 900, d_loss: 1.3262476921081543, g_loss: 0.671148419380188\n",
      "Epoch 950, d_loss: 1.2296799421310425, g_loss: 0.7861356735229492\n",
      "Epoch 1000, d_loss: 1.3822453022003174, g_loss: 0.7008962035179138\n",
      "Epoch 1050, d_loss: 1.5493223667144775, g_loss: 0.7169559597969055\n",
      "Epoch 1100, d_loss: 1.5387887954711914, g_loss: 0.6888077259063721\n",
      "Epoch 1150, d_loss: 1.4031589031219482, g_loss: 0.688793957233429\n",
      "Epoch 1200, d_loss: 1.563035488128662, g_loss: 0.6245209574699402\n",
      "Epoch 1250, d_loss: 1.5192420482635498, g_loss: 0.7912459969520569\n",
      "Epoch 1300, d_loss: 1.362461805343628, g_loss: 0.7046246528625488\n",
      "Epoch 1350, d_loss: 1.379952311515808, g_loss: 0.7882558107376099\n",
      "Epoch 1400, d_loss: 1.3580390214920044, g_loss: 0.6188058257102966\n",
      "Epoch 1450, d_loss: 1.317017674446106, g_loss: 0.752829909324646\n",
      "Epoch 1500, d_loss: 1.2405459880828857, g_loss: 0.8427298665046692\n",
      "Epoch 1550, d_loss: 1.3590078353881836, g_loss: 0.7548705339431763\n",
      "Epoch 1600, d_loss: 1.4446265697479248, g_loss: 0.7042256593704224\n",
      "Epoch 1650, d_loss: 1.307358980178833, g_loss: 1.173818588256836\n",
      "Epoch 1700, d_loss: 1.1272319555282593, g_loss: 1.1747217178344727\n",
      "Epoch 1750, d_loss: 1.2093216180801392, g_loss: 0.8007626533508301\n",
      "Epoch 1800, d_loss: 1.2858078479766846, g_loss: 0.8713037371635437\n",
      "Epoch 1850, d_loss: 1.3121531009674072, g_loss: 0.6563405394554138\n",
      "Epoch 1900, d_loss: 1.1121971607208252, g_loss: 0.7613298892974854\n",
      "Epoch 1950, d_loss: 1.2989509105682373, g_loss: 0.8299080729484558\n"
     ]
    }
   ],
   "source": [
    "num_epochs = 2000\n",
    "\n",
    "\n",
    "losses = []\n",
    "\n",
    "\n",
    "for epoch in range(num_epochs):\n",
    "    for batch_i , (real_samples, _) in enumerate(train_loader):\n",
    "    \n",
    "        # Training the discriminator \n",
    "        # 1) with real samples\n",
    "        \n",
    "        batch_size = real_samples.size(0)\n",
    "        \n",
    "        \n",
    "        \n",
    "        d_optimizer.zero_grad()\n",
    "\n",
    "        D_real_output = D(real_samples)\n",
    "\n",
    "        d_real_loss = loss_function(D_real_output, 1)\n",
    "        \n",
    "        # 2) with fake samples\n",
    "\n",
    "        latent_space_samples = torch.randn((batch_size, g_input_size))\n",
    "        \n",
    "        fake_generated_samples = G(latent_space_samples)\n",
    "        \n",
    "        D_fake_output = D(fake_generated_samples)\n",
    "        \n",
    "        d_fake_loss = loss_function(D_fake_output, 0)\n",
    "        \n",
    "        #adding fake loss and real loss \n",
    "        d_loss = d_real_loss + d_fake_loss\n",
    "        d_loss.backward()\n",
    "        d_optimizer.step()\n",
    "        \n",
    "        #Training the generator\n",
    "        \n",
    "        g_optimizer.zero_grad()\n",
    "        \n",
    "        latent_space_samples = torch.randn((batch_size, g_input_size))\n",
    "        \n",
    "        fake_generated_samples = G(latent_space_samples)\n",
    "        \n",
    "        #computing discriminator losses on fake samples\n",
    "\n",
    "        D_fake_output = D(fake_generated_samples)\n",
    "\n",
    "        g_loss = loss_function(D_fake_output, 1)\n",
    "\n",
    "        g_loss.backward()\n",
    "\n",
    "        g_optimizer.step()\n",
    "        \n",
    "        if epoch % 50 == 0 and batch_i == 4:\n",
    "            print(f\"Epoch {epoch}, d_loss: {d_loss.item()}, g_loss: {g_loss.item()}\")\n",
    "            \n",
    "    losses.append((d_loss.item(), g_loss.item()))\n",
    "    \n",
    "        "
   ]
  },
  {
   "cell_type": "code",
   "execution_count": 16,
   "metadata": {
    "scrolled": true
   },
   "outputs": [
    {
     "data": {
      "text/plain": [
       "<matplotlib.legend.Legend at 0x7fcc483619d0>"
      ]
     },
     "execution_count": 16,
     "metadata": {},
     "output_type": "execute_result"
    },
    {
     "data": {
      "image/png": "[encoded data removed]",
      "text/plain": [
       "<Figure size 432x288 with 1 Axes>"
      ]
     },
     "metadata": {
      "needs_background": "light"
     },
     "output_type": "display_data"
    }
   ],
   "source": [
    "fig, ax = plt.subplots()\n",
    "losses = np.array(losses)\n",
    "plt.plot(losses.T[0], label='Discriminator')\n",
    "plt.plot(losses.T[1], label='Generator')\n",
    "plt.title(\"Training Losses\")\n",
    "plt.legend()\n",
    "\n"
   ]
  },
  {
   "cell_type": "markdown",
   "metadata": {},
   "source": [
    "### Generating sinusoid"
   ]
  },
  {
   "cell_type": "code",
   "execution_count": 21,
   "metadata": {},
   "outputs": [
    {
     "data": {
      "image/png": "[encoded data removed]",
      "text/plain": [
       "<Figure size 432x288 with 1 Axes>"
      ]
     },
     "metadata": {
      "needs_background": "light"
     },
     "output_type": "display_data"
    }
   ],
   "source": [
    "for i in range(20):\n",
    "    sample_test_noise = torch.randn(16, 100)\n",
    "    generated = G(sample_test_noise)\n",
    "    generated = generated.detach()\n",
    "    plt.plot(generated[:, 0], generated[:, 1], '.')"
   ]
  },
  {
   "cell_type": "code",
   "execution_count": null,
   "metadata": {},
   "outputs": [],
   "source": []
  }
 ],
 "metadata": {
  "kernelspec": {
   "display_name": "Python 3",
   "language": "python",
   "name": "python3"
  },
  "language_info": {
   "codemirror_mode": {
    "name": "ipython",
    "version": 3
   },
   "file_extension": ".py",
   "mimetype": "text/x-python",
   "name": "python",
   "nbconvert_exporter": "python",
   "pygments_lexer": "ipython3",
   "version": "3.7.9"
  }
 },
 "nbformat": 4,
 "nbformat_minor": 4
}
